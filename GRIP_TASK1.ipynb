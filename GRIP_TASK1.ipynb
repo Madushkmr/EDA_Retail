{
 "cells": [
  {
   "cell_type": "markdown",
   "id": "cc85483f",
   "metadata": {},
   "source": [
    "# K MADUSH"
   ]
  },
  {
   "cell_type": "markdown",
   "id": "fd98299c",
   "metadata": {},
   "source": [
    "## TASK 1 - EXPLORARY DATA ANALYSIS"
   ]
  },
  {
   "cell_type": "markdown",
   "id": "876f348a",
   "metadata": {},
   "source": [
    "### Introduction"
   ]
  },
  {
   "cell_type": "markdown",
   "id": "c1df4a7a",
   "metadata": {},
   "source": [
    "### Exploratory Data Analysis on 'sample superstore'"
   ]
  },
  {
   "cell_type": "markdown",
   "id": "af9f07b7",
   "metadata": {},
   "source": [
    "Objective is Indentify weak area to make more profit."
   ]
  },
  {
   "cell_type": "markdown",
   "id": "74733272",
   "metadata": {},
   "source": [
    "### Steps of Credit Data Analysis\n",
    "\n",
    "Reading the Dataset into Notebook.\n",
    "\n",
    "Check for Data imbalance.\n",
    "\n",
    "Split the analysis into small segments using individaul feature.\n",
    "\n",
    "Data Cleaning, Missing Data Handling, Type casting are done segment wise.\n",
    "\n",
    "Perform Data Visualization segment-wise as well."
   ]
  },
  {
   "cell_type": "code",
   "execution_count": 1,
   "id": "1b4ad201",
   "metadata": {},
   "outputs": [],
   "source": [
    "import warnings\n",
    "warnings.filterwarnings(\"ignore\")"
   ]
  },
  {
   "cell_type": "code",
   "execution_count": 2,
   "id": "ec7e7381",
   "metadata": {},
   "outputs": [],
   "source": [
    "#Importing required libraries \n",
    "import pandas as pd\n",
    "import numpy as np\n",
    "import matplotlib.pyplot as plt\n",
    "import seaborn as sns\n",
    "# Set seaborn Style\n",
    "plt.style.use('seaborn-pastel')\n",
    "%matplotlib inline"
   ]
  },
  {
   "cell_type": "markdown",
   "id": "4633d3f7",
   "metadata": {},
   "source": [
    "READING DATA TO NOTEBOOK"
   ]
  },
  {
   "cell_type": "markdown",
   "id": "12f1e80f",
   "metadata": {},
   "source": [
    "'SampleSuperstore.csv' contains all the information of the Superstore Sales and related details."
   ]
  },
  {
   "cell_type": "code",
   "execution_count": 3,
   "id": "39db9e16",
   "metadata": {},
   "outputs": [],
   "source": [
    "#Reading data to notebook\n",
    "\n",
    "data = pd.read_csv(\"SampleSuperstore.csv\")"
   ]
  },
  {
   "cell_type": "markdown",
   "id": "10747bd8",
   "metadata": {},
   "source": [
    "First Let's Analysis \"application_data.csv\""
   ]
  },
  {
   "cell_type": "code",
   "execution_count": 4,
   "id": "3c13757f",
   "metadata": {},
   "outputs": [
    {
     "data": {
      "text/html": [
       "<div>\n",
       "<style scoped>\n",
       "    .dataframe tbody tr th:only-of-type {\n",
       "        vertical-align: middle;\n",
       "    }\n",
       "\n",
       "    .dataframe tbody tr th {\n",
       "        vertical-align: top;\n",
       "    }\n",
       "\n",
       "    .dataframe thead th {\n",
       "        text-align: right;\n",
       "    }\n",
       "</style>\n",
       "<table border=\"1\" class=\"dataframe\">\n",
       "  <thead>\n",
       "    <tr style=\"text-align: right;\">\n",
       "      <th></th>\n",
       "      <th>Ship Mode</th>\n",
       "      <th>Segment</th>\n",
       "      <th>Country</th>\n",
       "      <th>City</th>\n",
       "      <th>State</th>\n",
       "      <th>Postal Code</th>\n",
       "      <th>Region</th>\n",
       "      <th>Category</th>\n",
       "      <th>Sub-Category</th>\n",
       "      <th>Sales</th>\n",
       "      <th>Quantity</th>\n",
       "      <th>Discount</th>\n",
       "      <th>Profit</th>\n",
       "    </tr>\n",
       "  </thead>\n",
       "  <tbody>\n",
       "    <tr>\n",
       "      <th>0</th>\n",
       "      <td>Second Class</td>\n",
       "      <td>Consumer</td>\n",
       "      <td>United States</td>\n",
       "      <td>Henderson</td>\n",
       "      <td>Kentucky</td>\n",
       "      <td>42420</td>\n",
       "      <td>South</td>\n",
       "      <td>Furniture</td>\n",
       "      <td>Bookcases</td>\n",
       "      <td>261.9600</td>\n",
       "      <td>2</td>\n",
       "      <td>0.00</td>\n",
       "      <td>41.9136</td>\n",
       "    </tr>\n",
       "    <tr>\n",
       "      <th>1</th>\n",
       "      <td>Second Class</td>\n",
       "      <td>Consumer</td>\n",
       "      <td>United States</td>\n",
       "      <td>Henderson</td>\n",
       "      <td>Kentucky</td>\n",
       "      <td>42420</td>\n",
       "      <td>South</td>\n",
       "      <td>Furniture</td>\n",
       "      <td>Chairs</td>\n",
       "      <td>731.9400</td>\n",
       "      <td>3</td>\n",
       "      <td>0.00</td>\n",
       "      <td>219.5820</td>\n",
       "    </tr>\n",
       "    <tr>\n",
       "      <th>2</th>\n",
       "      <td>Second Class</td>\n",
       "      <td>Corporate</td>\n",
       "      <td>United States</td>\n",
       "      <td>Los Angeles</td>\n",
       "      <td>California</td>\n",
       "      <td>90036</td>\n",
       "      <td>West</td>\n",
       "      <td>Office Supplies</td>\n",
       "      <td>Labels</td>\n",
       "      <td>14.6200</td>\n",
       "      <td>2</td>\n",
       "      <td>0.00</td>\n",
       "      <td>6.8714</td>\n",
       "    </tr>\n",
       "    <tr>\n",
       "      <th>3</th>\n",
       "      <td>Standard Class</td>\n",
       "      <td>Consumer</td>\n",
       "      <td>United States</td>\n",
       "      <td>Fort Lauderdale</td>\n",
       "      <td>Florida</td>\n",
       "      <td>33311</td>\n",
       "      <td>South</td>\n",
       "      <td>Furniture</td>\n",
       "      <td>Tables</td>\n",
       "      <td>957.5775</td>\n",
       "      <td>5</td>\n",
       "      <td>0.45</td>\n",
       "      <td>-383.0310</td>\n",
       "    </tr>\n",
       "    <tr>\n",
       "      <th>4</th>\n",
       "      <td>Standard Class</td>\n",
       "      <td>Consumer</td>\n",
       "      <td>United States</td>\n",
       "      <td>Fort Lauderdale</td>\n",
       "      <td>Florida</td>\n",
       "      <td>33311</td>\n",
       "      <td>South</td>\n",
       "      <td>Office Supplies</td>\n",
       "      <td>Storage</td>\n",
       "      <td>22.3680</td>\n",
       "      <td>2</td>\n",
       "      <td>0.20</td>\n",
       "      <td>2.5164</td>\n",
       "    </tr>\n",
       "  </tbody>\n",
       "</table>\n",
       "</div>"
      ],
      "text/plain": [
       "        Ship Mode    Segment        Country             City       State  \\\n",
       "0    Second Class   Consumer  United States        Henderson    Kentucky   \n",
       "1    Second Class   Consumer  United States        Henderson    Kentucky   \n",
       "2    Second Class  Corporate  United States      Los Angeles  California   \n",
       "3  Standard Class   Consumer  United States  Fort Lauderdale     Florida   \n",
       "4  Standard Class   Consumer  United States  Fort Lauderdale     Florida   \n",
       "\n",
       "   Postal Code Region         Category Sub-Category     Sales  Quantity  \\\n",
       "0        42420  South        Furniture    Bookcases  261.9600         2   \n",
       "1        42420  South        Furniture       Chairs  731.9400         3   \n",
       "2        90036   West  Office Supplies       Labels   14.6200         2   \n",
       "3        33311  South        Furniture       Tables  957.5775         5   \n",
       "4        33311  South  Office Supplies      Storage   22.3680         2   \n",
       "\n",
       "   Discount    Profit  \n",
       "0      0.00   41.9136  \n",
       "1      0.00  219.5820  \n",
       "2      0.00    6.8714  \n",
       "3      0.45 -383.0310  \n",
       "4      0.20    2.5164  "
      ]
     },
     "execution_count": 4,
     "metadata": {},
     "output_type": "execute_result"
    }
   ],
   "source": [
    "#Trying to understand data\n",
    "data.head()\n"
   ]
  },
  {
   "cell_type": "code",
   "execution_count": 5,
   "id": "fb7d9898",
   "metadata": {},
   "outputs": [
    {
     "data": {
      "text/html": [
       "<div>\n",
       "<style scoped>\n",
       "    .dataframe tbody tr th:only-of-type {\n",
       "        vertical-align: middle;\n",
       "    }\n",
       "\n",
       "    .dataframe tbody tr th {\n",
       "        vertical-align: top;\n",
       "    }\n",
       "\n",
       "    .dataframe thead th {\n",
       "        text-align: right;\n",
       "    }\n",
       "</style>\n",
       "<table border=\"1\" class=\"dataframe\">\n",
       "  <thead>\n",
       "    <tr style=\"text-align: right;\">\n",
       "      <th></th>\n",
       "      <th>Ship Mode</th>\n",
       "      <th>Segment</th>\n",
       "      <th>Country</th>\n",
       "      <th>City</th>\n",
       "      <th>State</th>\n",
       "      <th>Postal Code</th>\n",
       "      <th>Region</th>\n",
       "      <th>Category</th>\n",
       "      <th>Sub-Category</th>\n",
       "      <th>Sales</th>\n",
       "      <th>Quantity</th>\n",
       "      <th>Discount</th>\n",
       "      <th>Profit</th>\n",
       "    </tr>\n",
       "  </thead>\n",
       "  <tbody>\n",
       "    <tr>\n",
       "      <th>9989</th>\n",
       "      <td>Second Class</td>\n",
       "      <td>Consumer</td>\n",
       "      <td>United States</td>\n",
       "      <td>Miami</td>\n",
       "      <td>Florida</td>\n",
       "      <td>33180</td>\n",
       "      <td>South</td>\n",
       "      <td>Furniture</td>\n",
       "      <td>Furnishings</td>\n",
       "      <td>25.248</td>\n",
       "      <td>3</td>\n",
       "      <td>0.2</td>\n",
       "      <td>4.1028</td>\n",
       "    </tr>\n",
       "    <tr>\n",
       "      <th>9990</th>\n",
       "      <td>Standard Class</td>\n",
       "      <td>Consumer</td>\n",
       "      <td>United States</td>\n",
       "      <td>Costa Mesa</td>\n",
       "      <td>California</td>\n",
       "      <td>92627</td>\n",
       "      <td>West</td>\n",
       "      <td>Furniture</td>\n",
       "      <td>Furnishings</td>\n",
       "      <td>91.960</td>\n",
       "      <td>2</td>\n",
       "      <td>0.0</td>\n",
       "      <td>15.6332</td>\n",
       "    </tr>\n",
       "    <tr>\n",
       "      <th>9991</th>\n",
       "      <td>Standard Class</td>\n",
       "      <td>Consumer</td>\n",
       "      <td>United States</td>\n",
       "      <td>Costa Mesa</td>\n",
       "      <td>California</td>\n",
       "      <td>92627</td>\n",
       "      <td>West</td>\n",
       "      <td>Technology</td>\n",
       "      <td>Phones</td>\n",
       "      <td>258.576</td>\n",
       "      <td>2</td>\n",
       "      <td>0.2</td>\n",
       "      <td>19.3932</td>\n",
       "    </tr>\n",
       "    <tr>\n",
       "      <th>9992</th>\n",
       "      <td>Standard Class</td>\n",
       "      <td>Consumer</td>\n",
       "      <td>United States</td>\n",
       "      <td>Costa Mesa</td>\n",
       "      <td>California</td>\n",
       "      <td>92627</td>\n",
       "      <td>West</td>\n",
       "      <td>Office Supplies</td>\n",
       "      <td>Paper</td>\n",
       "      <td>29.600</td>\n",
       "      <td>4</td>\n",
       "      <td>0.0</td>\n",
       "      <td>13.3200</td>\n",
       "    </tr>\n",
       "    <tr>\n",
       "      <th>9993</th>\n",
       "      <td>Second Class</td>\n",
       "      <td>Consumer</td>\n",
       "      <td>United States</td>\n",
       "      <td>Westminster</td>\n",
       "      <td>California</td>\n",
       "      <td>92683</td>\n",
       "      <td>West</td>\n",
       "      <td>Office Supplies</td>\n",
       "      <td>Appliances</td>\n",
       "      <td>243.160</td>\n",
       "      <td>2</td>\n",
       "      <td>0.0</td>\n",
       "      <td>72.9480</td>\n",
       "    </tr>\n",
       "  </tbody>\n",
       "</table>\n",
       "</div>"
      ],
      "text/plain": [
       "           Ship Mode   Segment        Country         City       State  \\\n",
       "9989    Second Class  Consumer  United States        Miami     Florida   \n",
       "9990  Standard Class  Consumer  United States   Costa Mesa  California   \n",
       "9991  Standard Class  Consumer  United States   Costa Mesa  California   \n",
       "9992  Standard Class  Consumer  United States   Costa Mesa  California   \n",
       "9993    Second Class  Consumer  United States  Westminster  California   \n",
       "\n",
       "      Postal Code Region         Category Sub-Category    Sales  Quantity  \\\n",
       "9989        33180  South        Furniture  Furnishings   25.248         3   \n",
       "9990        92627   West        Furniture  Furnishings   91.960         2   \n",
       "9991        92627   West       Technology       Phones  258.576         2   \n",
       "9992        92627   West  Office Supplies        Paper   29.600         4   \n",
       "9993        92683   West  Office Supplies   Appliances  243.160         2   \n",
       "\n",
       "      Discount   Profit  \n",
       "9989       0.2   4.1028  \n",
       "9990       0.0  15.6332  \n",
       "9991       0.2  19.3932  \n",
       "9992       0.0  13.3200  \n",
       "9993       0.0  72.9480  "
      ]
     },
     "execution_count": 5,
     "metadata": {},
     "output_type": "execute_result"
    }
   ],
   "source": [
    "data.tail()"
   ]
  },
  {
   "cell_type": "code",
   "execution_count": 6,
   "id": "0b79b79f",
   "metadata": {},
   "outputs": [
    {
     "name": "stdout",
     "output_type": "stream",
     "text": [
      "(9994, 13)\n",
      "Now we have 13 features and 9994 rows\n"
     ]
    }
   ],
   "source": [
    "print(data.shape)\n",
    "print(f'Now we have {data.shape[1]} features and {data.shape[0]} rows')"
   ]
  },
  {
   "cell_type": "code",
   "execution_count": 7,
   "id": "ee94af79",
   "metadata": {},
   "outputs": [
    {
     "name": "stdout",
     "output_type": "stream",
     "text": [
      "List of columns is ['Ship Mode', 'Segment', 'Country', 'City', 'State', 'Postal Code', 'Region', 'Category', 'Sub-Category', 'Sales', 'Quantity', 'Discount', 'Profit']\n"
     ]
    }
   ],
   "source": [
    "print(f'List of columns is {list(data.columns)}')"
   ]
  },
  {
   "cell_type": "markdown",
   "id": "f4bd431b",
   "metadata": {},
   "source": [
    "View the information like Range index, datatypes, number of non-null entries for each column by using the info() method."
   ]
  },
  {
   "cell_type": "code",
   "execution_count": 8,
   "id": "f6b3d24b",
   "metadata": {},
   "outputs": [
    {
     "name": "stdout",
     "output_type": "stream",
     "text": [
      "<class 'pandas.core.frame.DataFrame'>\n",
      "RangeIndex: 9994 entries, 0 to 9993\n",
      "Data columns (total 13 columns):\n",
      " #   Column        Non-Null Count  Dtype  \n",
      "---  ------        --------------  -----  \n",
      " 0   Ship Mode     9994 non-null   object \n",
      " 1   Segment       9994 non-null   object \n",
      " 2   Country       9994 non-null   object \n",
      " 3   City          9994 non-null   object \n",
      " 4   State         9994 non-null   object \n",
      " 5   Postal Code   9994 non-null   int64  \n",
      " 6   Region        9994 non-null   object \n",
      " 7   Category      9994 non-null   object \n",
      " 8   Sub-Category  9994 non-null   object \n",
      " 9   Sales         9994 non-null   float64\n",
      " 10  Quantity      9994 non-null   int64  \n",
      " 11  Discount      9994 non-null   float64\n",
      " 12  Profit        9994 non-null   float64\n",
      "dtypes: float64(3), int64(2), object(8)\n",
      "memory usage: 1015.1+ KB\n"
     ]
    }
   ],
   "source": [
    "data.info()"
   ]
  },
  {
   "cell_type": "code",
   "execution_count": 9,
   "id": "b958de47",
   "metadata": {},
   "outputs": [
    {
     "data": {
      "text/html": [
       "<div>\n",
       "<style scoped>\n",
       "    .dataframe tbody tr th:only-of-type {\n",
       "        vertical-align: middle;\n",
       "    }\n",
       "\n",
       "    .dataframe tbody tr th {\n",
       "        vertical-align: top;\n",
       "    }\n",
       "\n",
       "    .dataframe thead th {\n",
       "        text-align: right;\n",
       "    }\n",
       "</style>\n",
       "<table border=\"1\" class=\"dataframe\">\n",
       "  <thead>\n",
       "    <tr style=\"text-align: right;\">\n",
       "      <th></th>\n",
       "      <th>Postal Code</th>\n",
       "      <th>Sales</th>\n",
       "      <th>Quantity</th>\n",
       "      <th>Discount</th>\n",
       "      <th>Profit</th>\n",
       "    </tr>\n",
       "  </thead>\n",
       "  <tbody>\n",
       "    <tr>\n",
       "      <th>count</th>\n",
       "      <td>9994.000000</td>\n",
       "      <td>9994.000000</td>\n",
       "      <td>9994.000000</td>\n",
       "      <td>9994.000000</td>\n",
       "      <td>9994.000000</td>\n",
       "    </tr>\n",
       "    <tr>\n",
       "      <th>mean</th>\n",
       "      <td>55190.379428</td>\n",
       "      <td>229.858001</td>\n",
       "      <td>3.789574</td>\n",
       "      <td>0.156203</td>\n",
       "      <td>28.656896</td>\n",
       "    </tr>\n",
       "    <tr>\n",
       "      <th>std</th>\n",
       "      <td>32063.693350</td>\n",
       "      <td>623.245101</td>\n",
       "      <td>2.225110</td>\n",
       "      <td>0.206452</td>\n",
       "      <td>234.260108</td>\n",
       "    </tr>\n",
       "    <tr>\n",
       "      <th>min</th>\n",
       "      <td>1040.000000</td>\n",
       "      <td>0.444000</td>\n",
       "      <td>1.000000</td>\n",
       "      <td>0.000000</td>\n",
       "      <td>-6599.978000</td>\n",
       "    </tr>\n",
       "    <tr>\n",
       "      <th>25%</th>\n",
       "      <td>23223.000000</td>\n",
       "      <td>17.280000</td>\n",
       "      <td>2.000000</td>\n",
       "      <td>0.000000</td>\n",
       "      <td>1.728750</td>\n",
       "    </tr>\n",
       "    <tr>\n",
       "      <th>50%</th>\n",
       "      <td>56430.500000</td>\n",
       "      <td>54.490000</td>\n",
       "      <td>3.000000</td>\n",
       "      <td>0.200000</td>\n",
       "      <td>8.666500</td>\n",
       "    </tr>\n",
       "    <tr>\n",
       "      <th>75%</th>\n",
       "      <td>90008.000000</td>\n",
       "      <td>209.940000</td>\n",
       "      <td>5.000000</td>\n",
       "      <td>0.200000</td>\n",
       "      <td>29.364000</td>\n",
       "    </tr>\n",
       "    <tr>\n",
       "      <th>max</th>\n",
       "      <td>99301.000000</td>\n",
       "      <td>22638.480000</td>\n",
       "      <td>14.000000</td>\n",
       "      <td>0.800000</td>\n",
       "      <td>8399.976000</td>\n",
       "    </tr>\n",
       "  </tbody>\n",
       "</table>\n",
       "</div>"
      ],
      "text/plain": [
       "        Postal Code         Sales     Quantity     Discount       Profit\n",
       "count   9994.000000   9994.000000  9994.000000  9994.000000  9994.000000\n",
       "mean   55190.379428    229.858001     3.789574     0.156203    28.656896\n",
       "std    32063.693350    623.245101     2.225110     0.206452   234.260108\n",
       "min     1040.000000      0.444000     1.000000     0.000000 -6599.978000\n",
       "25%    23223.000000     17.280000     2.000000     0.000000     1.728750\n",
       "50%    56430.500000     54.490000     3.000000     0.200000     8.666500\n",
       "75%    90008.000000    209.940000     5.000000     0.200000    29.364000\n",
       "max    99301.000000  22638.480000    14.000000     0.800000  8399.976000"
      ]
     },
     "execution_count": 9,
     "metadata": {},
     "output_type": "execute_result"
    }
   ],
   "source": [
    "data.describe()"
   ]
  },
  {
   "cell_type": "markdown",
   "id": "1a64e2db",
   "metadata": {},
   "source": [
    "# Data Cleaning"
   ]
  },
  {
   "cell_type": "markdown",
   "id": "821516da",
   "metadata": {},
   "source": [
    "Let's try to remove columns which are having high percentage value of missing values"
   ]
  },
  {
   "cell_type": "code",
   "execution_count": 10,
   "id": "5fcd80fc",
   "metadata": {},
   "outputs": [
    {
     "data": {
      "text/plain": [
       "Ship Mode       0.0\n",
       "Segment         0.0\n",
       "Country         0.0\n",
       "City            0.0\n",
       "State           0.0\n",
       "Postal Code     0.0\n",
       "Region          0.0\n",
       "Category        0.0\n",
       "Sub-Category    0.0\n",
       "Sales           0.0\n",
       "Quantity        0.0\n",
       "Discount        0.0\n",
       "Profit          0.0\n",
       "dtype: float64"
      ]
     },
     "execution_count": 10,
     "metadata": {},
     "output_type": "execute_result"
    }
   ],
   "source": [
    "#Find percentage of missing values for each column.\n",
    "data.isnull().sum() * 100 / len(data)"
   ]
  },
  {
   "cell_type": "code",
   "execution_count": 11,
   "id": "cace4719",
   "metadata": {},
   "outputs": [
    {
     "name": "stdout",
     "output_type": "stream",
     "text": [
      "17 rows are duplicate entries in dataset\n"
     ]
    }
   ],
   "source": [
    "#Find duplicated rows in dataset.\n",
    "print(f'{data.duplicated().sum()} rows are duplicate entries in dataset')"
   ]
  },
  {
   "cell_type": "code",
   "execution_count": 12,
   "id": "15e266d9",
   "metadata": {},
   "outputs": [
    {
     "data": {
      "text/html": [
       "<div>\n",
       "<style scoped>\n",
       "    .dataframe tbody tr th:only-of-type {\n",
       "        vertical-align: middle;\n",
       "    }\n",
       "\n",
       "    .dataframe tbody tr th {\n",
       "        vertical-align: top;\n",
       "    }\n",
       "\n",
       "    .dataframe thead th {\n",
       "        text-align: right;\n",
       "    }\n",
       "</style>\n",
       "<table border=\"1\" class=\"dataframe\">\n",
       "  <thead>\n",
       "    <tr style=\"text-align: right;\">\n",
       "      <th></th>\n",
       "      <th>Ship Mode</th>\n",
       "      <th>Segment</th>\n",
       "      <th>Country</th>\n",
       "      <th>City</th>\n",
       "      <th>State</th>\n",
       "      <th>Postal Code</th>\n",
       "      <th>Region</th>\n",
       "      <th>Category</th>\n",
       "      <th>Sub-Category</th>\n",
       "      <th>Sales</th>\n",
       "      <th>Quantity</th>\n",
       "      <th>Discount</th>\n",
       "      <th>Profit</th>\n",
       "    </tr>\n",
       "  </thead>\n",
       "  <tbody>\n",
       "    <tr>\n",
       "      <th>0</th>\n",
       "      <td>Second Class</td>\n",
       "      <td>Consumer</td>\n",
       "      <td>United States</td>\n",
       "      <td>Henderson</td>\n",
       "      <td>Kentucky</td>\n",
       "      <td>42420</td>\n",
       "      <td>South</td>\n",
       "      <td>Furniture</td>\n",
       "      <td>Bookcases</td>\n",
       "      <td>261.9600</td>\n",
       "      <td>2</td>\n",
       "      <td>0.00</td>\n",
       "      <td>41.9136</td>\n",
       "    </tr>\n",
       "    <tr>\n",
       "      <th>1</th>\n",
       "      <td>Second Class</td>\n",
       "      <td>Consumer</td>\n",
       "      <td>United States</td>\n",
       "      <td>Henderson</td>\n",
       "      <td>Kentucky</td>\n",
       "      <td>42420</td>\n",
       "      <td>South</td>\n",
       "      <td>Furniture</td>\n",
       "      <td>Chairs</td>\n",
       "      <td>731.9400</td>\n",
       "      <td>3</td>\n",
       "      <td>0.00</td>\n",
       "      <td>219.5820</td>\n",
       "    </tr>\n",
       "    <tr>\n",
       "      <th>2</th>\n",
       "      <td>Second Class</td>\n",
       "      <td>Corporate</td>\n",
       "      <td>United States</td>\n",
       "      <td>Los Angeles</td>\n",
       "      <td>California</td>\n",
       "      <td>90036</td>\n",
       "      <td>West</td>\n",
       "      <td>Office Supplies</td>\n",
       "      <td>Labels</td>\n",
       "      <td>14.6200</td>\n",
       "      <td>2</td>\n",
       "      <td>0.00</td>\n",
       "      <td>6.8714</td>\n",
       "    </tr>\n",
       "    <tr>\n",
       "      <th>3</th>\n",
       "      <td>Standard Class</td>\n",
       "      <td>Consumer</td>\n",
       "      <td>United States</td>\n",
       "      <td>Fort Lauderdale</td>\n",
       "      <td>Florida</td>\n",
       "      <td>33311</td>\n",
       "      <td>South</td>\n",
       "      <td>Furniture</td>\n",
       "      <td>Tables</td>\n",
       "      <td>957.5775</td>\n",
       "      <td>5</td>\n",
       "      <td>0.45</td>\n",
       "      <td>-383.0310</td>\n",
       "    </tr>\n",
       "    <tr>\n",
       "      <th>4</th>\n",
       "      <td>Standard Class</td>\n",
       "      <td>Consumer</td>\n",
       "      <td>United States</td>\n",
       "      <td>Fort Lauderdale</td>\n",
       "      <td>Florida</td>\n",
       "      <td>33311</td>\n",
       "      <td>South</td>\n",
       "      <td>Office Supplies</td>\n",
       "      <td>Storage</td>\n",
       "      <td>22.3680</td>\n",
       "      <td>2</td>\n",
       "      <td>0.20</td>\n",
       "      <td>2.5164</td>\n",
       "    </tr>\n",
       "    <tr>\n",
       "      <th>...</th>\n",
       "      <td>...</td>\n",
       "      <td>...</td>\n",
       "      <td>...</td>\n",
       "      <td>...</td>\n",
       "      <td>...</td>\n",
       "      <td>...</td>\n",
       "      <td>...</td>\n",
       "      <td>...</td>\n",
       "      <td>...</td>\n",
       "      <td>...</td>\n",
       "      <td>...</td>\n",
       "      <td>...</td>\n",
       "      <td>...</td>\n",
       "    </tr>\n",
       "    <tr>\n",
       "      <th>9989</th>\n",
       "      <td>Second Class</td>\n",
       "      <td>Consumer</td>\n",
       "      <td>United States</td>\n",
       "      <td>Miami</td>\n",
       "      <td>Florida</td>\n",
       "      <td>33180</td>\n",
       "      <td>South</td>\n",
       "      <td>Furniture</td>\n",
       "      <td>Furnishings</td>\n",
       "      <td>25.2480</td>\n",
       "      <td>3</td>\n",
       "      <td>0.20</td>\n",
       "      <td>4.1028</td>\n",
       "    </tr>\n",
       "    <tr>\n",
       "      <th>9990</th>\n",
       "      <td>Standard Class</td>\n",
       "      <td>Consumer</td>\n",
       "      <td>United States</td>\n",
       "      <td>Costa Mesa</td>\n",
       "      <td>California</td>\n",
       "      <td>92627</td>\n",
       "      <td>West</td>\n",
       "      <td>Furniture</td>\n",
       "      <td>Furnishings</td>\n",
       "      <td>91.9600</td>\n",
       "      <td>2</td>\n",
       "      <td>0.00</td>\n",
       "      <td>15.6332</td>\n",
       "    </tr>\n",
       "    <tr>\n",
       "      <th>9991</th>\n",
       "      <td>Standard Class</td>\n",
       "      <td>Consumer</td>\n",
       "      <td>United States</td>\n",
       "      <td>Costa Mesa</td>\n",
       "      <td>California</td>\n",
       "      <td>92627</td>\n",
       "      <td>West</td>\n",
       "      <td>Technology</td>\n",
       "      <td>Phones</td>\n",
       "      <td>258.5760</td>\n",
       "      <td>2</td>\n",
       "      <td>0.20</td>\n",
       "      <td>19.3932</td>\n",
       "    </tr>\n",
       "    <tr>\n",
       "      <th>9992</th>\n",
       "      <td>Standard Class</td>\n",
       "      <td>Consumer</td>\n",
       "      <td>United States</td>\n",
       "      <td>Costa Mesa</td>\n",
       "      <td>California</td>\n",
       "      <td>92627</td>\n",
       "      <td>West</td>\n",
       "      <td>Office Supplies</td>\n",
       "      <td>Paper</td>\n",
       "      <td>29.6000</td>\n",
       "      <td>4</td>\n",
       "      <td>0.00</td>\n",
       "      <td>13.3200</td>\n",
       "    </tr>\n",
       "    <tr>\n",
       "      <th>9993</th>\n",
       "      <td>Second Class</td>\n",
       "      <td>Consumer</td>\n",
       "      <td>United States</td>\n",
       "      <td>Westminster</td>\n",
       "      <td>California</td>\n",
       "      <td>92683</td>\n",
       "      <td>West</td>\n",
       "      <td>Office Supplies</td>\n",
       "      <td>Appliances</td>\n",
       "      <td>243.1600</td>\n",
       "      <td>2</td>\n",
       "      <td>0.00</td>\n",
       "      <td>72.9480</td>\n",
       "    </tr>\n",
       "  </tbody>\n",
       "</table>\n",
       "<p>9977 rows × 13 columns</p>\n",
       "</div>"
      ],
      "text/plain": [
       "           Ship Mode    Segment        Country             City       State  \\\n",
       "0       Second Class   Consumer  United States        Henderson    Kentucky   \n",
       "1       Second Class   Consumer  United States        Henderson    Kentucky   \n",
       "2       Second Class  Corporate  United States      Los Angeles  California   \n",
       "3     Standard Class   Consumer  United States  Fort Lauderdale     Florida   \n",
       "4     Standard Class   Consumer  United States  Fort Lauderdale     Florida   \n",
       "...              ...        ...            ...              ...         ...   \n",
       "9989    Second Class   Consumer  United States            Miami     Florida   \n",
       "9990  Standard Class   Consumer  United States       Costa Mesa  California   \n",
       "9991  Standard Class   Consumer  United States       Costa Mesa  California   \n",
       "9992  Standard Class   Consumer  United States       Costa Mesa  California   \n",
       "9993    Second Class   Consumer  United States      Westminster  California   \n",
       "\n",
       "      Postal Code Region         Category Sub-Category     Sales  Quantity  \\\n",
       "0           42420  South        Furniture    Bookcases  261.9600         2   \n",
       "1           42420  South        Furniture       Chairs  731.9400         3   \n",
       "2           90036   West  Office Supplies       Labels   14.6200         2   \n",
       "3           33311  South        Furniture       Tables  957.5775         5   \n",
       "4           33311  South  Office Supplies      Storage   22.3680         2   \n",
       "...           ...    ...              ...          ...       ...       ...   \n",
       "9989        33180  South        Furniture  Furnishings   25.2480         3   \n",
       "9990        92627   West        Furniture  Furnishings   91.9600         2   \n",
       "9991        92627   West       Technology       Phones  258.5760         2   \n",
       "9992        92627   West  Office Supplies        Paper   29.6000         4   \n",
       "9993        92683   West  Office Supplies   Appliances  243.1600         2   \n",
       "\n",
       "      Discount    Profit  \n",
       "0         0.00   41.9136  \n",
       "1         0.00  219.5820  \n",
       "2         0.00    6.8714  \n",
       "3         0.45 -383.0310  \n",
       "4         0.20    2.5164  \n",
       "...        ...       ...  \n",
       "9989      0.20    4.1028  \n",
       "9990      0.00   15.6332  \n",
       "9991      0.20   19.3932  \n",
       "9992      0.00   13.3200  \n",
       "9993      0.00   72.9480  \n",
       "\n",
       "[9977 rows x 13 columns]"
      ]
     },
     "execution_count": 12,
     "metadata": {},
     "output_type": "execute_result"
    }
   ],
   "source": [
    "#Drop duplicates \n",
    "data.drop_duplicates()"
   ]
  },
  {
   "cell_type": "code",
   "execution_count": 13,
   "id": "ee5a839d",
   "metadata": {},
   "outputs": [
    {
     "name": "stdout",
     "output_type": "stream",
     "text": [
      "(9994, 13)\n",
      "Now we have 13 features and 9994 rows\n"
     ]
    }
   ],
   "source": [
    "print(data.shape)\n",
    "print(f'Now we have {data.shape[1]} features and {data.shape[0]} rows')"
   ]
  },
  {
   "cell_type": "code",
   "execution_count": 14,
   "id": "3fc829d5",
   "metadata": {},
   "outputs": [
    {
     "data": {
      "text/plain": [
       "Postal Code      int64\n",
       "Sales          float64\n",
       "Quantity         int64\n",
       "Discount       float64\n",
       "Profit         float64\n",
       "dtype: object"
      ]
     },
     "execution_count": 14,
     "metadata": {},
     "output_type": "execute_result"
    }
   ],
   "source": [
    "#Finding numeric columns\n",
    "data.dtypes[data.dtypes != 'object']"
   ]
  },
  {
   "cell_type": "code",
   "execution_count": 15,
   "id": "8841f02a",
   "metadata": {},
   "outputs": [
    {
     "data": {
      "text/plain": [
       "Ship Mode       object\n",
       "Segment         object\n",
       "Country         object\n",
       "City            object\n",
       "State           object\n",
       "Region          object\n",
       "Category        object\n",
       "Sub-Category    object\n",
       "dtype: object"
      ]
     },
     "execution_count": 15,
     "metadata": {},
     "output_type": "execute_result"
    }
   ],
   "source": [
    "#Finding Non numeric columns\n",
    "data.dtypes[data.dtypes == 'object']"
   ]
  },
  {
   "cell_type": "code",
   "execution_count": 16,
   "id": "af626907",
   "metadata": {},
   "outputs": [
    {
     "name": "stdout",
     "output_type": "stream",
     "text": [
      "['Second Class' 'Standard Class' 'First Class' 'Same Day']\n"
     ]
    }
   ],
   "source": [
    "#View the unique Ship Mode in the data frame.\n",
    "\n",
    "print(data['Ship Mode'].unique())"
   ]
  },
  {
   "cell_type": "code",
   "execution_count": 17,
   "id": "addc20dd",
   "metadata": {},
   "outputs": [
    {
     "name": "stdout",
     "output_type": "stream",
     "text": [
      "['Consumer' 'Corporate' 'Home Office']\n"
     ]
    }
   ],
   "source": [
    "#View the unique Segment in the data frame.\n",
    "\n",
    "print(data['Segment'].unique())"
   ]
  },
  {
   "cell_type": "code",
   "execution_count": 18,
   "id": "ff6ad5dd",
   "metadata": {},
   "outputs": [
    {
     "name": "stdout",
     "output_type": "stream",
     "text": [
      "['United States']\n",
      "\n",
      "There are 1 country in data.\n"
     ]
    }
   ],
   "source": [
    "#View the Country in the dataset.\n",
    "\n",
    "print(data['Country'].unique())\n",
    "print(\"\\nThere are %d country in data.\"%data['Country'].nunique())"
   ]
  },
  {
   "cell_type": "code",
   "execution_count": 19,
   "id": "8cb154c7",
   "metadata": {},
   "outputs": [
    {
     "name": "stdout",
     "output_type": "stream",
     "text": [
      "['Kentucky' 'California' 'Florida' 'North Carolina' 'Washington' 'Texas'\n",
      " 'Wisconsin' 'Utah' 'Nebraska' 'Pennsylvania' 'Illinois' 'Minnesota'\n",
      " 'Michigan' 'Delaware' 'Indiana' 'New York' 'Arizona' 'Virginia'\n",
      " 'Tennessee' 'Alabama' 'South Carolina' 'Oregon' 'Colorado' 'Iowa' 'Ohio'\n",
      " 'Missouri' 'Oklahoma' 'New Mexico' 'Louisiana' 'Connecticut' 'New Jersey'\n",
      " 'Massachusetts' 'Georgia' 'Nevada' 'Rhode Island' 'Mississippi'\n",
      " 'Arkansas' 'Montana' 'New Hampshire' 'Maryland' 'District of Columbia'\n",
      " 'Kansas' 'Vermont' 'Maine' 'South Dakota' 'Idaho' 'North Dakota'\n",
      " 'Wyoming' 'West Virginia']\n",
      "\n",
      "There are 49 states in this data.\n"
     ]
    }
   ],
   "source": [
    "#View the states in the dataset.\n",
    "\n",
    "print(data['State'].unique())\n",
    "print(\"\\nThere are %d states in this data.\"%data['State'].nunique())"
   ]
  },
  {
   "cell_type": "code",
   "execution_count": 20,
   "id": "a400c25a",
   "metadata": {},
   "outputs": [
    {
     "name": "stdout",
     "output_type": "stream",
     "text": [
      "['South' 'West' 'Central' 'East']\n",
      "\n",
      "There are 4 Region in this data.\n"
     ]
    }
   ],
   "source": [
    "#View the Region in the dataset.\n",
    "\n",
    "print(data['Region'].unique())\n",
    "print(\"\\nThere are %d Region in this data.\"%data['Region'].nunique())"
   ]
  },
  {
   "cell_type": "code",
   "execution_count": 21,
   "id": "e981df5b",
   "metadata": {},
   "outputs": [
    {
     "name": "stdout",
     "output_type": "stream",
     "text": [
      "['Bookcases' 'Chairs' 'Labels' 'Tables' 'Storage' 'Furnishings' 'Art'\n",
      " 'Phones' 'Binders' 'Appliances' 'Paper' 'Accessories' 'Envelopes'\n",
      " 'Fasteners' 'Supplies' 'Machines' 'Copiers']\n"
     ]
    }
   ],
   "source": [
    "#View the unique Sub-Category in the data frame.\n",
    "\n",
    "print(data['Sub-Category'].unique())"
   ]
  },
  {
   "cell_type": "code",
   "execution_count": 22,
   "id": "11ffd4ab",
   "metadata": {},
   "outputs": [
    {
     "name": "stdout",
     "output_type": "stream",
     "text": [
      "['Furniture' 'Office Supplies' 'Technology']\n"
     ]
    }
   ],
   "source": [
    "#View the unique Category in the data frame.\n",
    "\n",
    "print(data['Category'].unique())"
   ]
  },
  {
   "cell_type": "code",
   "execution_count": 23,
   "id": "0c656f44",
   "metadata": {},
   "outputs": [],
   "source": [
    "data.drop(['Country', 'Postal Code'], axis = 1, inplace = True) "
   ]
  },
  {
   "cell_type": "markdown",
   "id": "2f2ffa08",
   "metadata": {},
   "source": [
    "## Now let's try to understand how data is balanced based on Profit."
   ]
  },
  {
   "cell_type": "code",
   "execution_count": 24,
   "id": "7c86f807",
   "metadata": {},
   "outputs": [],
   "source": [
    "def target_func(x):\n",
    "    if x < 0:\n",
    "        return 'Loss'\n",
    "    elif x > 0:\n",
    "        return 'Profit'\n",
    "    else:\n",
    "        return 'Break Even Point'"
   ]
  },
  {
   "cell_type": "code",
   "execution_count": 25,
   "id": "00d4a3d6",
   "metadata": {},
   "outputs": [],
   "source": [
    "#copying data\n",
    "data1 = data"
   ]
  },
  {
   "cell_type": "code",
   "execution_count": 26,
   "id": "90fc9c9b",
   "metadata": {},
   "outputs": [],
   "source": [
    "data1['Target'] = data1['Profit'].apply(lambda x: target_func(x))"
   ]
  },
  {
   "cell_type": "code",
   "execution_count": 27,
   "id": "a9de5bbe",
   "metadata": {},
   "outputs": [
    {
     "data": {
      "image/png": "[encoded data removed]",
      "text/plain": [
       "<Figure size 720x360 with 1 Axes>"
      ]
     },
     "metadata": {
      "needs_background": "light"
     },
     "output_type": "display_data"
    }
   ],
   "source": [
    "fig = plt.figure(figsize=(10,5))\n",
    "\n",
    "plt.title('Data Imbalance check\\n', size = 20)\n",
    "\n",
    "sns.countplot(data1['Target']).set(ylabel=\"Number of Sales\\n\",\n",
    "                                      xlabel = ('\\nTarget Variable\\n'))\n",
    "plt.grid(b = True, color ='grey',\n",
    "        linestyle ='-.', linewidth = 0.5,\n",
    "        alpha = 0.2)\n",
    "plt.show()"
   ]
  },
  {
   "cell_type": "code",
   "execution_count": 28,
   "id": "af755b50",
   "metadata": {},
   "outputs": [
    {
     "name": "stdout",
     "output_type": "stream",
     "text": [
      "Percentage of Profit:  80.63 %\n",
      "Percentage of Loss:  18.72 %\n",
      "Percentage of Break Even Point:  0.65 %\n"
     ]
    }
   ],
   "source": [
    "print(\"Percentage of Profit: \",round(\n",
    "      data1[data1[\"Target\"] == 'Profit'].shape[0]*100/(data1[data1[\"Target\"] == 'Break Even Point'].shape[0]+data1[data1[\"Target\"] == 'Profit'].shape[0]+data[data[\"Target\"] == 'Loss'].shape[0]),2),'%')\n",
    "print(\"Percentage of Loss: \",round(\n",
    "      data1[data1[\"Target\"] == 'Loss'].shape[0]*100/(data1[data1[\"Target\"] == 'Break Even Point'].shape[0]+data1[data1[\"Target\"] == 'Profit'].shape[0]+data[data[\"Target\"] == 'Loss'].shape[0]),2),'%')\n",
    "print(\"Percentage of Break Even Point: \",round(\n",
    "      data1[data1[\"Target\"] == 'Break Even Point'].shape[0]*100/(data1[data1[\"Target\"] == 'Break Even Point'].shape[0]+data1[data1[\"Target\"] == 'Profit'].shape[0]+data[data[\"Target\"] == 'Loss'].shape[0]),2),'%')"
   ]
  },
  {
   "cell_type": "markdown",
   "id": "747da62e",
   "metadata": {},
   "source": [
    "Because we have find weak areas to improve Profit we can choose profit and loss related data to work with.\n",
    "Also, percentage of Break Even Point (No Loss or No Profit) can be removed"
   ]
  },
  {
   "cell_type": "code",
   "execution_count": 29,
   "id": "9add728d",
   "metadata": {},
   "outputs": [],
   "source": [
    "#Dropping Break even point rows\n",
    "data1 = data1[~(data1[\"Target\"] == 'Break Even Point')]"
   ]
  },
  {
   "cell_type": "code",
   "execution_count": 30,
   "id": "cc12ab15",
   "metadata": {},
   "outputs": [
    {
     "data": {
      "text/plain": [
       "0"
      ]
     },
     "execution_count": 30,
     "metadata": {},
     "output_type": "execute_result"
    }
   ],
   "source": [
    "#Check after Drop function is applied\n",
    "(data1[\"Target\"] == 'Break Even Point').sum()"
   ]
  },
  {
   "cell_type": "code",
   "execution_count": 31,
   "id": "21a40a07",
   "metadata": {},
   "outputs": [
    {
     "name": "stdout",
     "output_type": "stream",
     "text": [
      "(9929, 12)\n",
      "Now we have 12 features and 9929 rows\n"
     ]
    }
   ],
   "source": [
    "print(data1.shape)\n",
    "print(f'Now we have {data1.shape[1]} features and {data1.shape[0]} rows')"
   ]
  },
  {
   "cell_type": "markdown",
   "id": "e5c2afb4",
   "metadata": {},
   "source": [
    "As we can see in above bar Plot Data is highly imbalance The Ratio between Profit and Loss is nearly 80% / 20%. Suggesting us to analysis it seperately"
   ]
  },
  {
   "cell_type": "code",
   "execution_count": 32,
   "id": "498dc75a",
   "metadata": {},
   "outputs": [],
   "source": [
    "profit_data  = data1[data1[\"Target\"] =='Profit']\n",
    "loss_data = data1[data1[\"Target\"] == 'Loss']"
   ]
  },
  {
   "cell_type": "markdown",
   "id": "c7280f5f",
   "metadata": {},
   "source": [
    "## Segment Wise Analysis"
   ]
  },
  {
   "cell_type": "markdown",
   "id": "f0a34fad",
   "metadata": {},
   "source": [
    "### Let's Non Numeric Columns first\n"
   ]
  },
  {
   "cell_type": "markdown",
   "id": "4954c976",
   "metadata": {},
   "source": [
    "## Ship mode"
   ]
  },
  {
   "cell_type": "code",
   "execution_count": 33,
   "id": "bbc8c643",
   "metadata": {},
   "outputs": [
    {
     "data": {
      "image/png": "[encoded data removed]",
      "text/plain": [
       "<Figure size 1080x360 with 1 Axes>"
      ]
     },
     "metadata": {
      "needs_background": "light"
     },
     "output_type": "display_data"
    }
   ],
   "source": [
    "#Identify most Common Ship Mode leading to loss\n",
    "plt.figure(figsize=(15,5))\n",
    "plt.title(\"Number of order based on Ship Mode\\n\")\n",
    "loss_data.groupby(\"Ship Mode\")[\"Target\"].count().plot.bar()\n",
    "plt.xlabel(\"\\nDifferent Ship modes\\n\")\n",
    "plt.ylabel(\"Orders Count\\n\")\n",
    "plt.grid(b = True, color ='grey',\n",
    "        linestyle ='-.', linewidth = 0.5,\n",
    "        alpha = 0.2)\n",
    "plt.show()"
   ]
  },
  {
   "cell_type": "markdown",
   "id": "002d1855",
   "metadata": {},
   "source": [
    "Most of Order which tend to be loss are shipped as Standard Class. But,"
   ]
  },
  {
   "cell_type": "code",
   "execution_count": 34,
   "id": "2532542a",
   "metadata": {},
   "outputs": [
    {
     "data": {
      "image/png": "[encoded data removed]",
      "text/plain": [
       "<Figure size 1080x360 with 1 Axes>"
      ]
     },
     "metadata": {
      "needs_background": "light"
     },
     "output_type": "display_data"
    }
   ],
   "source": [
    "#Identify most Common Ship Mode leading to loss\n",
    "plt.figure(figsize=(15,5))\n",
    "plt.title(\"Number of order based on Ship Mode\\n\")\n",
    "(-1 * loss_data.groupby(by='Ship Mode')[\"Profit\"].mean()/loss_data.groupby(by='Ship Mode')[\"Profit\"].count()).plot.bar()\n",
    "plt.xlabel(\"\\nDifferent Ship modes\\n\")\n",
    "plt.ylabel(\"Loss Rate\\n\")\n",
    "plt.grid(b = True, color ='grey',\n",
    "        linestyle ='-.', linewidth = 0.5,\n",
    "        alpha = 0.2)\n",
    "plt.show()"
   ]
  },
  {
   "cell_type": "code",
   "execution_count": 35,
   "id": "8ebf0a98",
   "metadata": {},
   "outputs": [
    {
     "name": "stdout",
     "output_type": "stream",
     "text": [
      "Ship Mode\n",
      "First Class       26.395498\n",
      "Same Day          92.649994\n",
      "Second Class      25.702525\n",
      "Standard Class     7.293148\n",
      "Name: Profit, dtype: float64\n"
     ]
    }
   ],
   "source": [
    "print(-100*loss_data.groupby(by='Ship Mode')[\"Profit\"].mean()/loss_data.groupby(by='Ship Mode')[\"Profit\"].count())"
   ]
  },
  {
   "cell_type": "markdown",
   "id": "9033581f",
   "metadata": {},
   "source": [
    "Order whose ship mode is Same day loss rate is high about 92%"
   ]
  },
  {
   "cell_type": "markdown",
   "id": "a18f4090",
   "metadata": {},
   "source": [
    "## Segment"
   ]
  },
  {
   "cell_type": "code",
   "execution_count": 36,
   "id": "5a163b1c",
   "metadata": {},
   "outputs": [
    {
     "data": {
      "image/png": "[encoded data removed]",
      "text/plain": [
       "<Figure size 1080x360 with 1 Axes>"
      ]
     },
     "metadata": {
      "needs_background": "light"
     },
     "output_type": "display_data"
    },
    {
     "name": "stdout",
     "output_type": "stream",
     "text": [
      "Segment\n",
      "Consumer       1003\n",
      "Corporate       556\n",
      "Home Office     312\n",
      "Name: Target, dtype: int64\n"
     ]
    }
   ],
   "source": [
    "#Identify most Common Segment leading to loss\n",
    "plt.figure(figsize=(15,5))\n",
    "plt.title(\"Number of order based on Segment\\n\")\n",
    "loss_data.groupby(\"Segment\")[\"Target\"].count().plot.bar()\n",
    "plt.xlabel(\"\\nDifferent Segment\\n\")\n",
    "plt.ylabel(\"Orders Count\\n\")\n",
    "\n",
    "plt.grid(b = True, color ='grey',\n",
    "        linestyle ='-.', linewidth = 0.5,\n",
    "        alpha = 0.2)\n",
    "plt.show()\n",
    "print(loss_data.groupby(\"Segment\")[\"Target\"].count())"
   ]
  },
  {
   "cell_type": "markdown",
   "id": "6b424af1",
   "metadata": {},
   "source": [
    "Most of Order which tend to be loss are Consumer's order. But,"
   ]
  },
  {
   "cell_type": "code",
   "execution_count": 37,
   "id": "2842d61a",
   "metadata": {},
   "outputs": [
    {
     "data": {
      "image/png": "[encoded data removed]",
      "text/plain": [
       "<Figure size 1080x360 with 1 Axes>"
      ]
     },
     "metadata": {
      "needs_background": "light"
     },
     "output_type": "display_data"
    }
   ],
   "source": [
    "#Identify most Common Segment leading to loss\n",
    "plt.figure(figsize=(15,5))\n",
    "plt.title(\"Loss Rate based on Segment\\n\")\n",
    "(-1 * loss_data.groupby(by='Segment')[\"Profit\"].mean()/loss_data.groupby(by='Segment')[\"Profit\"].count()).plot.bar()\n",
    "plt.xlabel(\"\\nDifferent Segment\\n\")\n",
    "plt.ylabel(\"Loss Rate\\n\")\n",
    "\n",
    "plt.grid(b = True, color ='grey',\n",
    "        linestyle ='-.', linewidth = 0.5,\n",
    "        alpha = 0.2)\n",
    "plt.show()\n"
   ]
  },
  {
   "cell_type": "code",
   "execution_count": 38,
   "id": "86c37fc1",
   "metadata": {},
   "outputs": [
    {
     "name": "stdout",
     "output_type": "stream",
     "text": [
      "Segment\n",
      "Consumer        8.443832\n",
      "Corporate      14.487865\n",
      "Home Office    27.118638\n",
      "Name: Profit, dtype: float64\n"
     ]
    }
   ],
   "source": [
    "print(-100 * loss_data.groupby(by='Segment')[\"Profit\"].mean()/loss_data.groupby(by='Segment')[\"Profit\"].count())"
   ]
  },
  {
   "cell_type": "markdown",
   "id": "45b589c1",
   "metadata": {},
   "source": [
    "Consumer and Home office have high Loss Rate about 27%"
   ]
  },
  {
   "cell_type": "markdown",
   "id": "e1781de3",
   "metadata": {},
   "source": [
    "##  Region"
   ]
  },
  {
   "cell_type": "code",
   "execution_count": 39,
   "id": "a220f3bf",
   "metadata": {
    "scrolled": false
   },
   "outputs": [
    {
     "data": {
      "image/png": "[encoded data removed]",
      "text/plain": [
       "<Figure size 1080x360 with 1 Axes>"
      ]
     },
     "metadata": {
      "needs_background": "light"
     },
     "output_type": "display_data"
    },
    {
     "name": "stdout",
     "output_type": "stream",
     "text": [
      "Region\n",
      "Central    741\n",
      "East       553\n",
      "South      259\n",
      "West       318\n",
      "Name: Target, dtype: int64\n"
     ]
    }
   ],
   "source": [
    "#Identify most Common Region leading to loss\n",
    "plt.figure(figsize=(15,5))\n",
    "plt.title(\"Number of order based on Region\\n\")\n",
    "loss_data.groupby(\"Region\")[\"Target\"].count().plot.bar()\n",
    "plt.xlabel(\"\\nDifferent Region\\n\")\n",
    "plt.ylabel(\"Orders Count\\n\")\n",
    "\n",
    "plt.grid(b = True, color ='grey',\n",
    "        linestyle ='-.', linewidth = 0.5,\n",
    "        alpha = 0.2)\n",
    "plt.show()\n",
    "print(loss_data.groupby(\"Region\")[\"Target\"].count())"
   ]
  },
  {
   "cell_type": "markdown",
   "id": "fff5c8df",
   "metadata": {},
   "source": [
    "Most of Order which tend to be loss belongs to central Region. But,"
   ]
  },
  {
   "cell_type": "code",
   "execution_count": 40,
   "id": "47768a48",
   "metadata": {
    "scrolled": false
   },
   "outputs": [
    {
     "data": {
      "image/png": "[encoded data removed]",
      "text/plain": [
       "<Figure size 1080x360 with 1 Axes>"
      ]
     },
     "metadata": {
      "needs_background": "light"
     },
     "output_type": "display_data"
    }
   ],
   "source": [
    "#Identify most Common Region leading to loss\n",
    "plt.figure(figsize=(15,5))\n",
    "plt.title(\"Loss Rate based on Region\\n\")\n",
    "(-1 * loss_data.groupby(by='Region')[\"Profit\"].mean()/loss_data.groupby(by='Region')[\"Profit\"].count()).plot.bar()\n",
    "plt.xlabel(\"\\nDifferent Region\\n\")\n",
    "plt.ylabel(\"Orders Count\\n\")\n",
    "\n",
    "plt.grid(b = True, color ='grey',\n",
    "        linestyle ='-.', linewidth = 0.5,\n",
    "        alpha = 0.2)\n",
    "plt.show()\n"
   ]
  },
  {
   "cell_type": "code",
   "execution_count": 41,
   "id": "c5079b02",
   "metadata": {},
   "outputs": [
    {
     "name": "stdout",
     "output_type": "stream",
     "text": [
      "Region\n",
      "Central    10.256207\n",
      "East       16.216203\n",
      "South      41.002418\n",
      "West       22.468416\n",
      "Name: Profit, dtype: float64\n"
     ]
    }
   ],
   "source": [
    "print(-100 * loss_data.groupby(by='Region')[\"Profit\"].mean()/loss_data.groupby(by='Region')[\"Profit\"].count())"
   ]
  },
  {
   "cell_type": "markdown",
   "id": "b4b7b460",
   "metadata": {},
   "source": [
    "Highest Loss rate is at South Region of about 41% "
   ]
  },
  {
   "cell_type": "markdown",
   "id": "ba0c1c16",
   "metadata": {},
   "source": [
    "## Category"
   ]
  },
  {
   "cell_type": "code",
   "execution_count": 42,
   "id": "25df2feb",
   "metadata": {},
   "outputs": [
    {
     "data": {
      "image/png": "[encoded data removed]",
      "text/plain": [
       "<Figure size 1080x360 with 1 Axes>"
      ]
     },
     "metadata": {
      "needs_background": "light"
     },
     "output_type": "display_data"
    },
    {
     "name": "stdout",
     "output_type": "stream",
     "text": [
      "Category\n",
      "Furniture          714\n",
      "Office Supplies    886\n",
      "Technology         271\n",
      "Name: Target, dtype: int64\n"
     ]
    }
   ],
   "source": [
    "#Identify most Common category leading to loss\n",
    "plt.figure(figsize=(15,5))\n",
    "plt.title(\"Number of order based on Category\\n\")\n",
    "loss_data.groupby(\"Category\")[\"Target\"].count().plot.bar()\n",
    "plt.xlabel(\"\\nDifferent Category\\n\")\n",
    "plt.ylabel(\"Orders Count\\n\")\n",
    "plt.grid(b = True, color ='grey',\n",
    "        linestyle ='-.', linewidth = 0.5,\n",
    "        alpha = 0.2)\n",
    "plt.show()\n",
    "print(loss_data.groupby(\"Category\")[\"Target\"].count())"
   ]
  },
  {
   "cell_type": "markdown",
   "id": "b50ffd79",
   "metadata": {},
   "source": [
    "Most of Order which tend to be loss belongs to Office supplies category. But,"
   ]
  },
  {
   "cell_type": "code",
   "execution_count": 43,
   "id": "26fb554a",
   "metadata": {},
   "outputs": [
    {
     "data": {
      "image/png": "[encoded data removed]",
      "text/plain": [
       "<Figure size 720x360 with 1 Axes>"
      ]
     },
     "metadata": {
      "needs_background": "light"
     },
     "output_type": "display_data"
    }
   ],
   "source": [
    "loss_data.groupby(by='Category')[\"Profit\"].mean()\n",
    "plt.figure(figsize=(10,5))\n",
    "plt.title(\"Loss Rate based on Category\\n\")\n",
    "(-1 * loss_data.groupby(by='Category')[\"Profit\"].mean()/loss_data.groupby(\"Category\")[\"Profit\"].count()).plot.bar()\n",
    "plt.xlabel(\"\\nDifferent Category\\n\")\n",
    "plt.ylabel(\"Mean Profit\\n\")\n",
    "plt.grid(b = True, color ='grey',\n",
    "        linestyle ='-.', linewidth = 0.5,\n",
    "        alpha = 0.2)\n",
    "plt.show()\n"
   ]
  },
  {
   "cell_type": "code",
   "execution_count": 44,
   "id": "06026a42",
   "metadata": {},
   "outputs": [
    {
     "name": "stdout",
     "output_type": "stream",
     "text": [
      "Category\n",
      "Furniture          11.953038\n",
      "Office Supplies     7.212172\n",
      "Technology         52.531853\n",
      "Name: Profit, dtype: float64\n"
     ]
    }
   ],
   "source": [
    "print(-100 * loss_data.groupby(by='Category')[\"Profit\"].mean()/loss_data.groupby(\"Category\")[\"Profit\"].count())"
   ]
  },
  {
   "cell_type": "markdown",
   "id": "c89e7e76",
   "metadata": {},
   "source": [
    "Technology has high loss rate ab our 52%."
   ]
  },
  {
   "cell_type": "markdown",
   "id": "cb4d4cd8",
   "metadata": {},
   "source": [
    "## State"
   ]
  },
  {
   "cell_type": "code",
   "execution_count": 45,
   "id": "37937d60",
   "metadata": {},
   "outputs": [],
   "source": [
    "loss_data['Profit/Sales'] = loss_data['Profit']/loss_data['Sales']"
   ]
  },
  {
   "cell_type": "code",
   "execution_count": 46,
   "id": "6815a1c0",
   "metadata": {},
   "outputs": [
    {
     "data": {
      "text/html": [
       "<div>\n",
       "<style scoped>\n",
       "    .dataframe tbody tr th:only-of-type {\n",
       "        vertical-align: middle;\n",
       "    }\n",
       "\n",
       "    .dataframe tbody tr th {\n",
       "        vertical-align: top;\n",
       "    }\n",
       "\n",
       "    .dataframe thead th {\n",
       "        text-align: right;\n",
       "    }\n",
       "</style>\n",
       "<table border=\"1\" class=\"dataframe\">\n",
       "  <thead>\n",
       "    <tr style=\"text-align: right;\">\n",
       "      <th></th>\n",
       "      <th>Sales</th>\n",
       "      <th>Quantity</th>\n",
       "      <th>Discount</th>\n",
       "      <th>Profit</th>\n",
       "      <th>Profit/Sales</th>\n",
       "    </tr>\n",
       "    <tr>\n",
       "      <th>State</th>\n",
       "      <th></th>\n",
       "      <th></th>\n",
       "      <th></th>\n",
       "      <th></th>\n",
       "      <th></th>\n",
       "    </tr>\n",
       "  </thead>\n",
       "  <tbody>\n",
       "    <tr>\n",
       "      <th>Texas</th>\n",
       "      <td>102656.4568</td>\n",
       "      <td>1855</td>\n",
       "      <td>263.24</td>\n",
       "      <td>-36813.1875</td>\n",
       "      <td>-452.270763</td>\n",
       "    </tr>\n",
       "    <tr>\n",
       "      <th>Illinois</th>\n",
       "      <td>38626.2020</td>\n",
       "      <td>948</td>\n",
       "      <td>143.90</td>\n",
       "      <td>-19501.6975</td>\n",
       "      <td>-244.365714</td>\n",
       "    </tr>\n",
       "    <tr>\n",
       "      <th>Pennsylvania</th>\n",
       "      <td>75792.2320</td>\n",
       "      <td>993</td>\n",
       "      <td>128.10</td>\n",
       "      <td>-21602.8515</td>\n",
       "      <td>-117.947976</td>\n",
       "    </tr>\n",
       "  </tbody>\n",
       "</table>\n",
       "</div>"
      ],
      "text/plain": [
       "                    Sales  Quantity  Discount      Profit  Profit/Sales\n",
       "State                                                                  \n",
       "Texas         102656.4568      1855    263.24 -36813.1875   -452.270763\n",
       "Illinois       38626.2020       948    143.90 -19501.6975   -244.365714\n",
       "Pennsylvania   75792.2320       993    128.10 -21602.8515   -117.947976"
      ]
     },
     "execution_count": 46,
     "metadata": {},
     "output_type": "execute_result"
    }
   ],
   "source": [
    "loss_data.groupby(by='State').sum().sort_values('Profit/Sales',ascending=True).head(3)"
   ]
  },
  {
   "cell_type": "markdown",
   "id": "cb15231f",
   "metadata": {},
   "source": [
    "State Texas, Illinois and Pennsylvania are top 3 states where loss per sales is high"
   ]
  },
  {
   "cell_type": "code",
   "execution_count": 47,
   "id": "560dc97d",
   "metadata": {},
   "outputs": [
    {
     "data": {
      "text/html": [
       "<div>\n",
       "<style scoped>\n",
       "    .dataframe tbody tr th:only-of-type {\n",
       "        vertical-align: middle;\n",
       "    }\n",
       "\n",
       "    .dataframe tbody tr th {\n",
       "        vertical-align: top;\n",
       "    }\n",
       "\n",
       "    .dataframe thead th {\n",
       "        text-align: right;\n",
       "    }\n",
       "</style>\n",
       "<table border=\"1\" class=\"dataframe\">\n",
       "  <thead>\n",
       "    <tr style=\"text-align: right;\">\n",
       "      <th></th>\n",
       "      <th></th>\n",
       "      <th>Discount</th>\n",
       "      <th>Profit</th>\n",
       "      <th>Profit/Sales</th>\n",
       "      <th>Quantity</th>\n",
       "      <th>Sales</th>\n",
       "    </tr>\n",
       "    <tr>\n",
       "      <th>State</th>\n",
       "      <th>City</th>\n",
       "      <th></th>\n",
       "      <th></th>\n",
       "      <th></th>\n",
       "      <th></th>\n",
       "      <th></th>\n",
       "    </tr>\n",
       "  </thead>\n",
       "  <tbody>\n",
       "    <tr>\n",
       "      <th>Texas</th>\n",
       "      <th>Abilene</th>\n",
       "      <td>0.8</td>\n",
       "      <td>-3.75840</td>\n",
       "      <td>-2.700000</td>\n",
       "      <td>2.000000</td>\n",
       "      <td>1.392000</td>\n",
       "    </tr>\n",
       "    <tr>\n",
       "      <th rowspan=\"2\" valign=\"top\">Illinois</th>\n",
       "      <th>Frankfort</th>\n",
       "      <td>0.8</td>\n",
       "      <td>-52.95840</td>\n",
       "      <td>-2.550000</td>\n",
       "      <td>8.000000</td>\n",
       "      <td>20.768000</td>\n",
       "    </tr>\n",
       "    <tr>\n",
       "      <th>Bolingbrook</th>\n",
       "      <td>0.8</td>\n",
       "      <td>-15.01090</td>\n",
       "      <td>-2.000000</td>\n",
       "      <td>3.500000</td>\n",
       "      <td>7.874000</td>\n",
       "    </tr>\n",
       "    <tr>\n",
       "      <th>Texas</th>\n",
       "      <th>Bedford</th>\n",
       "      <td>0.8</td>\n",
       "      <td>-22.51200</td>\n",
       "      <td>-1.750000</td>\n",
       "      <td>8.000000</td>\n",
       "      <td>12.864000</td>\n",
       "    </tr>\n",
       "    <tr>\n",
       "      <th>Illinois</th>\n",
       "      <th>Oswego</th>\n",
       "      <td>0.8</td>\n",
       "      <td>-270.12005</td>\n",
       "      <td>-1.725000</td>\n",
       "      <td>4.000000</td>\n",
       "      <td>154.409000</td>\n",
       "    </tr>\n",
       "    <tr>\n",
       "      <th>...</th>\n",
       "      <th>...</th>\n",
       "      <td>...</td>\n",
       "      <td>...</td>\n",
       "      <td>...</td>\n",
       "      <td>...</td>\n",
       "      <td>...</td>\n",
       "    </tr>\n",
       "    <tr>\n",
       "      <th>Ohio</th>\n",
       "      <th>Parma</th>\n",
       "      <td>0.3</td>\n",
       "      <td>-13.92220</td>\n",
       "      <td>-0.028571</td>\n",
       "      <td>3.666667</td>\n",
       "      <td>702.515333</td>\n",
       "    </tr>\n",
       "    <tr>\n",
       "      <th>Texas</th>\n",
       "      <th>Coppell</th>\n",
       "      <td>0.2</td>\n",
       "      <td>-0.20980</td>\n",
       "      <td>-0.012500</td>\n",
       "      <td>1.000000</td>\n",
       "      <td>16.784000</td>\n",
       "    </tr>\n",
       "    <tr>\n",
       "      <th>Washington</th>\n",
       "      <th>Des Moines</th>\n",
       "      <td>0.2</td>\n",
       "      <td>-2.69970</td>\n",
       "      <td>-0.012500</td>\n",
       "      <td>3.000000</td>\n",
       "      <td>215.976000</td>\n",
       "    </tr>\n",
       "    <tr>\n",
       "      <th>California</th>\n",
       "      <th>Sunnyvale</th>\n",
       "      <td>0.2</td>\n",
       "      <td>-2.69970</td>\n",
       "      <td>-0.012500</td>\n",
       "      <td>3.000000</td>\n",
       "      <td>215.976000</td>\n",
       "    </tr>\n",
       "    <tr>\n",
       "      <th>New York</th>\n",
       "      <th>Buffalo</th>\n",
       "      <td>0.2</td>\n",
       "      <td>-50.09800</td>\n",
       "      <td>-0.012500</td>\n",
       "      <td>10.000000</td>\n",
       "      <td>4007.840000</td>\n",
       "    </tr>\n",
       "  </tbody>\n",
       "</table>\n",
       "<p>243 rows × 5 columns</p>\n",
       "</div>"
      ],
      "text/plain": [
       "                        Discount     Profit  Profit/Sales   Quantity  \\\n",
       "State      City                                                        \n",
       "Texas      Abilene           0.8   -3.75840     -2.700000   2.000000   \n",
       "Illinois   Frankfort         0.8  -52.95840     -2.550000   8.000000   \n",
       "           Bolingbrook       0.8  -15.01090     -2.000000   3.500000   \n",
       "Texas      Bedford           0.8  -22.51200     -1.750000   8.000000   \n",
       "Illinois   Oswego            0.8 -270.12005     -1.725000   4.000000   \n",
       "...                          ...        ...           ...        ...   \n",
       "Ohio       Parma             0.3  -13.92220     -0.028571   3.666667   \n",
       "Texas      Coppell           0.2   -0.20980     -0.012500   1.000000   \n",
       "Washington Des Moines        0.2   -2.69970     -0.012500   3.000000   \n",
       "California Sunnyvale         0.2   -2.69970     -0.012500   3.000000   \n",
       "New York   Buffalo           0.2  -50.09800     -0.012500  10.000000   \n",
       "\n",
       "                              Sales  \n",
       "State      City                      \n",
       "Texas      Abilene         1.392000  \n",
       "Illinois   Frankfort      20.768000  \n",
       "           Bolingbrook     7.874000  \n",
       "Texas      Bedford        12.864000  \n",
       "Illinois   Oswego        154.409000  \n",
       "...                             ...  \n",
       "Ohio       Parma         702.515333  \n",
       "Texas      Coppell        16.784000  \n",
       "Washington Des Moines    215.976000  \n",
       "California Sunnyvale     215.976000  \n",
       "New York   Buffalo      4007.840000  \n",
       "\n",
       "[243 rows x 5 columns]"
      ]
     },
     "execution_count": 47,
     "metadata": {},
     "output_type": "execute_result"
    }
   ],
   "source": [
    "pd.pivot_table(loss_data, index=['State', 'City'], aggfunc='mean', sort=True).sort_values(by=['Profit/Sales'],ascending=True)"
   ]
  },
  {
   "cell_type": "markdown",
   "id": "510ded0d",
   "metadata": {},
   "source": [
    "City Abilene from Texas State, Frankfort and Bolingbrook from state Illinois are top 3 city where loss Rate is high."
   ]
  },
  {
   "cell_type": "markdown",
   "id": "d447521e",
   "metadata": {},
   "source": [
    "## Sub-Category"
   ]
  },
  {
   "cell_type": "code",
   "execution_count": 48,
   "id": "76d81923",
   "metadata": {},
   "outputs": [
    {
     "data": {
      "text/html": [
       "<div>\n",
       "<style scoped>\n",
       "    .dataframe tbody tr th:only-of-type {\n",
       "        vertical-align: middle;\n",
       "    }\n",
       "\n",
       "    .dataframe tbody tr th {\n",
       "        vertical-align: top;\n",
       "    }\n",
       "\n",
       "    .dataframe thead th {\n",
       "        text-align: right;\n",
       "    }\n",
       "</style>\n",
       "<table border=\"1\" class=\"dataframe\">\n",
       "  <thead>\n",
       "    <tr style=\"text-align: right;\">\n",
       "      <th></th>\n",
       "      <th>Sales</th>\n",
       "      <th>Quantity</th>\n",
       "      <th>Discount</th>\n",
       "      <th>Profit</th>\n",
       "      <th>Profit/Sales</th>\n",
       "    </tr>\n",
       "    <tr>\n",
       "      <th>Sub-Category</th>\n",
       "      <th></th>\n",
       "      <th></th>\n",
       "      <th></th>\n",
       "      <th></th>\n",
       "      <th></th>\n",
       "    </tr>\n",
       "  </thead>\n",
       "  <tbody>\n",
       "    <tr>\n",
       "      <th>Binders</th>\n",
       "      <td>36140.613</td>\n",
       "      <td>2456</td>\n",
       "      <td>452.4</td>\n",
       "      <td>-38510.4964</td>\n",
       "      <td>-660.883333</td>\n",
       "    </tr>\n",
       "    <tr>\n",
       "      <th>Appliances</th>\n",
       "      <td>3382.534</td>\n",
       "      <td>235</td>\n",
       "      <td>53.6</td>\n",
       "      <td>-8629.6412</td>\n",
       "      <td>-169.750000</td>\n",
       "    </tr>\n",
       "    <tr>\n",
       "      <th>Furnishings</th>\n",
       "      <td>12845.844</td>\n",
       "      <td>597</td>\n",
       "      <td>88.6</td>\n",
       "      <td>-6490.9134</td>\n",
       "      <td>-97.637500</td>\n",
       "    </tr>\n",
       "  </tbody>\n",
       "</table>\n",
       "</div>"
      ],
      "text/plain": [
       "                  Sales  Quantity  Discount      Profit  Profit/Sales\n",
       "Sub-Category                                                         \n",
       "Binders       36140.613      2456     452.4 -38510.4964   -660.883333\n",
       "Appliances     3382.534       235      53.6  -8629.6412   -169.750000\n",
       "Furnishings   12845.844       597      88.6  -6490.9134    -97.637500"
      ]
     },
     "execution_count": 48,
     "metadata": {},
     "output_type": "execute_result"
    }
   ],
   "source": [
    "loss_data.groupby(by='Sub-Category').sum().sort_values('Profit/Sales',ascending=True).head(3)"
   ]
  },
  {
   "cell_type": "markdown",
   "id": "0429c021",
   "metadata": {},
   "source": [
    "Binders, Appliances and Furnishings are top 3 Sub-Category where loss per sales is high"
   ]
  }
 ],
 "metadata": {
  "kernelspec": {
   "display_name": "Python 3 (ipykernel)",
   "language": "python",
   "name": "python3"
  },
  "language_info": {
   "codemirror_mode": {
    "name": "ipython",
    "version": 3
   },
   "file_extension": ".py",
   "mimetype": "text/x-python",
   "name": "python",
   "nbconvert_exporter": "python",
   "pygments_lexer": "ipython3",
   "version": "3.9.12"
  }
 },
 "nbformat": 4,
 "nbformat_minor": 5
}
